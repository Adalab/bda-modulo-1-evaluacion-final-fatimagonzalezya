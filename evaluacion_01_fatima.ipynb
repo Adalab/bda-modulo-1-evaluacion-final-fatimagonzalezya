{
 "cells": [
  {
   "cell_type": "markdown",
   "metadata": {},
   "source": [
    "Ejercicio de evaluación final - Módulo 01 - Fátima González"
   ]
  },
  {
   "cell_type": "code",
   "execution_count": 43,
   "metadata": {},
   "outputs": [],
   "source": [
    "# Vamos a tener tres estructuras (funciones) con las que vamos a trabajar a lo largo de estos ejercicios.\n",
    "\n",
    "# inventario (es una lista que contendrá diccionarios)\n",
    "# clientes (diccionario)\n",
    "# ventas_totales (lista)\n",
    "\n",
    "inventario = []\n",
    "clientes = {}\n",
    "ventas_totales = []"
   ]
  },
  {
   "cell_type": "markdown",
   "metadata": {},
   "source": [
    "Ejercico 1\n",
    "\n",
    "Se nos pide crear una lista de diccionarios para almacenar productos en un inventario. \n",
    "Cada producto será un diccionario con las claves: nombre, precio y cantidad.\n",
    "Empezaremos con una lista vacía, y al final del ejercicio comprobaremos si funciona."
   ]
  },
  {
   "cell_type": "code",
   "execution_count": 44,
   "metadata": {},
   "outputs": [
    {
     "data": {
      "text/plain": [
       "[{'nombre': 'Camisa', 'precio': 20, 'cantidad': 51}]"
      ]
     },
     "execution_count": 44,
     "metadata": {},
     "output_type": "execute_result"
    }
   ],
   "source": [
    "# Creamos un inventario vacío, fuera de la función, que se inicializará cuando metamos los datos, como parámetros, desde fuera.\n",
    "\n",
    "inventario = []\n",
    "\n",
    "# Definimos la función con los parámetros descritos, éstas serán las claves del futuro diccionario.\n",
    "\n",
    "def agregar_productos (nombre, precio, cantidad):\n",
    "    \n",
    "# Ahora le diremos que recorra el inventario y si encuentra un producto que coincida con el nombre, actualice la cantidad y salga de la función (return).\n",
    "# Aquí \"producto\" es una variable temporal (que representa cada diccionario dentro de la lista \"inventario\") y funciona dentro del bucle.\n",
    " \n",
    "    for producto in inventario:\n",
    "         if producto['nombre'] == nombre:  \n",
    "            producto['cantidad'] += cantidad\n",
    "            return\n",
    "# con return le decimos que salga del bucle, cuando se haga lo anterior (actualizar cantidad).\n",
    "\n",
    "# A esta función le decimos que si termina el bucle sin encontrar coincidencia, cree un nuevo producto.\n",
    "# \"nuevo_producto\" será un diccionario nuevo (con iguales parámetros) que se añade a inventario si no se cumple la condición anterior.\n",
    "\n",
    "    nuevo_producto = {\"nombre\" : nombre, \"precio\" : precio, \"cantidad\" : cantidad}\n",
    "    inventario.append(nuevo_producto)\n",
    "    \n",
    "\n",
    "# Ejemplo para comprobar la función.\n",
    "\n",
    "agregar_productos('Camisa', 20, 50)\n",
    "agregar_productos('Camisa', 20, 1)\n",
    "\n",
    "inventario"
   ]
  },
  {
   "cell_type": "markdown",
   "metadata": {},
   "source": [
    "Ejercicio 2\n",
    "\n",
    "Queremos mostrar todos los productos del inventario (diccionario) junto con sus detalles o parámetros. Utilizaremos bucle for para recorrer el inventario e imprimiremos los detalles."
   ]
  },
  {
   "cell_type": "code",
   "execution_count": 45,
   "metadata": {},
   "outputs": [
    {
     "name": "stdout",
     "output_type": "stream",
     "text": [
      "Nombre: Camisa , Precio: $ 20 , Cantidad: 51\n",
      "Nombre: Pantalón , Precio: $ 30 , Cantidad: 30\n",
      "Nombre: Zapatos , Precio: $ 50 , Cantidad: 40\n"
     ]
    }
   ],
   "source": [
    "def ver_inventario():\n",
    "    for producto in inventario:\n",
    "         print(\"Nombre:\", producto['nombre'], \", Precio: $\", producto['precio'], \", Cantidad:\", producto['cantidad'])\n",
    "\n",
    "agregar_productos('Pantalón', 30, 30)\n",
    "agregar_productos('Zapatos', 50, 40)\n",
    "\n",
    "# Para ello tenemos que ejecutar la función del ejercicio anterior y agregar producto. Para poder ver el inventario.\n",
    "\n",
    "ver_inventario()"
   ]
  },
  {
   "cell_type": "markdown",
   "metadata": {},
   "source": [
    "Ejercicio 3\n",
    "\n",
    "Definimos la función de buscar producto por \"nombre\". Tenemos que iterar por el inventario para comparar si coincide el nombre.\n",
    "Y si se cumple esta condición le decimos que nos muestre cada elemento del diccionatio (con las claves descritas y los valores que se añadan)."
   ]
  },
  {
   "cell_type": "code",
   "execution_count": 46,
   "metadata": {},
   "outputs": [],
   "source": [
    "def buscar_producto(nombre):\n",
    "\n",
    "# Coemnzamos definiendo la definición que toma como parámetro nombre.\n",
    "# Inicializamos esta variable para verificar si encontramos el producto.    \n",
    "\n",
    "    for producto in inventario:\n",
    "        if producto [\"nombre\"] == nombre:\n",
    "            print(\"Nombre:\", producto['nombre'], \", Precio: €\", producto['precio'], \", Cantidad:\", producto['cantidad'])    \n",
    "            break\n",
    "\n",
    "# Usamos el bucle for para iterar sobre cada producto en la lista inventario\n",
    "# Si el nombre del producto coincide con el nombre que estamos buscando, imprimimos los detalles del producto.\n",
    "# Usamos la instrucción romper para salir del bucle.\n",
    "\n",
    "        else:\n",
    "            print (\"Producto no encontrado\")\n",
    "\n",
    "# Si el bucle finaliza sin encontrar el producto, se ejecuta else, es decir, se imprime el mensaje."
   ]
  },
  {
   "cell_type": "code",
   "execution_count": 47,
   "metadata": {},
   "outputs": [
    {
     "name": "stdout",
     "output_type": "stream",
     "text": [
      "Producto no encontrado\n",
      "Nombre: Pantalón , Precio: € 30 , Cantidad: 30\n",
      "Producto no encontrado\n",
      "Producto no encontrado\n",
      "Nombre: Zapatos , Precio: € 50 , Cantidad: 40\n",
      "Producto no encontrado\n",
      "Producto no encontrado\n",
      "Producto no encontrado\n"
     ]
    }
   ],
   "source": [
    "# Ejemplo de comprobación\n",
    "\n",
    "buscar_producto('Pantalón')  \n",
    "buscar_producto('Zapatos') \n",
    "buscar_producto('Calcetines') \n"
   ]
  },
  {
   "cell_type": "code",
   "execution_count": 48,
   "metadata": {},
   "outputs": [
    {
     "name": "stdout",
     "output_type": "stream",
     "text": [
      "[{'nombre': 'Camisa', 'precio': 20, 'cantidad': 51}, {'nombre': 'Pantalón', 'precio': 30, 'cantidad': 30}, {'nombre': 'Zapatos', 'precio': 50, 'cantidad': 40}]\n"
     ]
    }
   ],
   "source": [
    "# Ejemplo de comprobación\n",
    "\n",
    "print(inventario)"
   ]
  },
  {
   "cell_type": "markdown",
   "metadata": {},
   "source": [
    "Ejercicio 4\n",
    "\n",
    "La siguiente operación, actualizar stock, requiere una nueva función.\n",
    "La función recibe dos parámetros (producto y cantidad) que es lo que vamos a agregar o quitar. \n",
    "Actualiza la cantidad según la entrada del usuario.\n",
    "Si el producto no esta en el inventario muestra un mensaje indicándolo."
   ]
  },
  {
   "cell_type": "code",
   "execution_count": 49,
   "metadata": {},
   "outputs": [],
   "source": [
    "def actualizar_stock (nombre, cantidad):\n",
    "\n",
    "    for producto in inventario:\n",
    "        if producto[\"nombre\"] == nombre:\n",
    "            producto[\"cantidad\"] += cantidad\n",
    "\n",
    "# Busca el producto en el inventario (iteramos sobre la lista). Si se encuentra, actualiza/aumenta su cantidad.\n",
    "    \n",
    "            if producto[\"cantidad\"] <= 0:\n",
    "                print(\"El producto\", nombre, \"no tiene stock\") \n",
    "\n",
    "# Muestra un mensaje si la cantidad de ese prodcuto es cero o negativo.    \n",
    "        \n",
    "            return\n",
    "        \n",
    "# Salimos de la función una vez comprpbadas las dos condiciones.        \n",
    " \n",
    "    print(\"El producto\", nombre, \"no existe\") \n",
    "\n",
    "# Y si no se da lo anteior es que el nombre del producto no existe, muestra un mensaje.\n"
   ]
  },
  {
   "cell_type": "code",
   "execution_count": 50,
   "metadata": {},
   "outputs": [
    {
     "name": "stdout",
     "output_type": "stream",
     "text": [
      "El producto Camisa no tiene stock\n",
      "Nombre: Camisa , Precio: $ 20 , Cantidad: 0\n",
      "Nombre: Pantalón , Precio: $ 30 , Cantidad: 30\n",
      "Nombre: Zapatos , Precio: $ 50 , Cantidad: 40\n",
      "Nombre: Calcetines , Precio: $ 5 , Cantidad: 8\n",
      "Nombre: Falda , Precio: $ 30 , Cantidad: 30\n"
     ]
    }
   ],
   "source": [
    "# Para poder comprobar que funciona, vamos a agregar productos y actualziar stock.\n",
    "\n",
    "agregar_productos('Camisa', 20, 1)\n",
    "agregar_productos('Calcetines', 5, 3)\n",
    "agregar_productos('Falda', 30, 30)\n",
    "\n",
    "actualizar_stock('Camisa', -52)  # Debería restar todo el stock y mostrar \"El producto ya no tiene stock\"\n",
    "actualizar_stock('Calcetines', 5)  # Debería decir que el producto no existe\n",
    "\n",
    "ver_inventario()"
   ]
  },
  {
   "cell_type": "markdown",
   "metadata": {},
   "source": [
    "Ejericio 5\n",
    "\n",
    "Se nos pide eliminar un producto de inventario (por su nombre), para ello vamos a definir una nueva función. Debe recibir el nombre del producto como parámetro.\n"
   ]
  },
  {
   "cell_type": "code",
   "execution_count": 51,
   "metadata": {},
   "outputs": [],
   "source": [
    "def eliminar_producto(nombre):\n",
    "    \n",
    "    for producto in inventario:\n",
    "        if producto[\"nombre\"] == nombre:\n",
    "            inventario.remove(producto)\n",
    "            print(\"El producto\", nombre, \"ha sido eliminado del inventario.\")\n",
    "            return  \n",
    "        \n",
    "# Le estamos diciendo que recorra los productos del inventario, y si encuentra coincidencia \"nombre\" lo elimine y muestre mensaje. \n",
    "# Salimos de la función una vez eliminado el producto"
   ]
  },
  {
   "cell_type": "code",
   "execution_count": 52,
   "metadata": {},
   "outputs": [
    {
     "name": "stdout",
     "output_type": "stream",
     "text": [
      "El producto Camisa ha sido eliminado del inventario.\n",
      "El producto Zapatos ha sido eliminado del inventario.\n",
      "Nombre: Pantalón , Precio: $ 30 , Cantidad: 30\n",
      "Nombre: Calcetines , Precio: $ 5 , Cantidad: 8\n",
      "Nombre: Falda , Precio: $ 30 , Cantidad: 30\n"
     ]
    }
   ],
   "source": [
    "# Llamamos a la función para eliminar dos productos\n",
    "\n",
    "eliminar_producto('Camisa')  \n",
    "eliminar_producto('Zapatos') \n",
    "\n",
    "# Para comprobarlo, ver el inventario después de la eliminación\n",
    "\n",
    "ver_inventario()"
   ]
  },
  {
   "cell_type": "markdown",
   "metadata": {},
   "source": [
    "Ejercicio 6\n",
    "\n",
    "Creamos nueva función que calculará y mostrará el valor del inventario."
   ]
  },
  {
   "cell_type": "code",
   "execution_count": 53,
   "metadata": {},
   "outputs": [],
   "source": [
    "def calcular_valor_inventario():\n",
    "    valor_total = 0\n",
    "\n",
    "# Como queremos calcular el total del inventario, tenemos que inicializarlo a cero, y durante el bucle iremos sumando el valor de cada producto.\n",
    "\n",
    "    for producto in inventario:\n",
    "        valor_producto = producto['precio'] * producto['cantidad']\n",
    "\n",
    "# Calculamos el valor de cada producto\n",
    "\n",
    "        valor_total += valor_producto\n",
    "\n",
    "# Acumulamos el valor total en una nueva variable\n",
    "\n",
    "    print(\"El valor total del inventario es: $\", valor_total)\n",
    "\n",
    "# Mostramos el valor total del inventario con un mensaje"
   ]
  },
  {
   "cell_type": "code",
   "execution_count": 36,
   "metadata": {},
   "outputs": [
    {
     "name": "stdout",
     "output_type": "stream",
     "text": [
      "El valor total del inventario es: $ 1875\n"
     ]
    }
   ],
   "source": [
    "# Ejemplo de comprobación\n",
    "\n",
    "agregar_productos('Camisa', 20, 1)\n",
    "agregar_productos('Calcetines', 5, 3)\n",
    "agregar_productos('Falda', 30, 30)\n",
    "\n",
    "calcular_valor_inventario()"
   ]
  },
  {
   "cell_type": "markdown",
   "metadata": {},
   "source": [
    "Ejercicio 7\n",
    "\n",
    "La función realizar_compra(), permitirá a un cliente seleccionar productos del inventario, calcular el coste total y actualizar el inventario según las compras realizadas. \n",
    "Esta función utilizará un bucle while para permitir múltiples compras hasta que el cliente decida salir."
   ]
  },
  {
   "cell_type": "code",
   "execution_count": 54,
   "metadata": {},
   "outputs": [
    {
     "ename": "IndentationError",
     "evalue": "expected an indented block (2686157552.py, line 22)",
     "output_type": "error",
     "traceback": [
      "\u001b[0;36m  Cell \u001b[0;32mIn[54], line 22\u001b[0;36m\u001b[0m\n\u001b[0;31m    While True:\u001b[0m\n\u001b[0m    ^\u001b[0m\n\u001b[0;31mIndentationError\u001b[0m\u001b[0;31m:\u001b[0m expected an indented block\n"
     ]
    }
   ],
   "source": [
    "def realizar_compra():\n",
    "\n",
    "    articulos_carrito = [] \n",
    "    total_compra = 0  \n",
    "    \n",
    "# Inicializamos el carrito vacío. Por tanto, el coste total de la compra es cero\n",
    "    \n",
    "    while True:\n",
    "        ver_inventario() \n",
    "        producto_a_comprar = input(\"¿Qué producto quieres comprar?\")\n",
    "        \n",
    "# While True nos permite hacer compras continuas hasta que salgamos del bucle.\n",
    "# Llamamos a la función para ver los productos disponibles.\n",
    "# Le pedimos al usuario que ingrese el producto que quiere comprar.\n",
    "        \n",
    "        producto_encontrado = False\n",
    "# Inicializamos la variable aquí, partiendo de 0 (ningun producto encontrado).\n",
    "\n",
    "        for producto in inventario:\n",
    "            if producto[\"nombre\"] == producto_a_comprar:\n",
    "\n",
    "            While True:\n",
    "                try:\n",
    "                    cantidad_a_comprar = int(input(\"¿Cuántos \" + producto[\"nombre\"] + \" quieres comprar? \"))\n",
    "                    break\n",
    "               \n",
    "                except ValueError:\n",
    "                    print(\"Por favor, ingresa un número válido.\")\n",
    "                  \n",
    "            \n",
    "# Recorreremos cada producto del inventario y si el nombre del producto coincide con producto_a_comprar, preguntamos cuántos quieres comprar.\n",
    "# Añadimos excepción error en valor y que muestre tal mensaje. Y salimos de la compra actual.\n",
    "                    \n",
    "            if cantidad_a_comprar <= producto['cantidad']: \n",
    "\n",
    "# Verificamos si hay suficiente stock. \n",
    "\n",
    "                articulos_carrito.append({\"nombre\": producto['nombre'], \"cantidad\": cantidad_a_comprar, \"precio\": producto['precio']})\n",
    "                producto['cantidad'] -= cantidad_a_comprar  \n",
    "                    \n",
    "# Actualizamos el inventario.\n",
    "\n",
    "                total_compra += producto['precio'] * cantidad_a_comprar  \n",
    "                    \n",
    "# Actualizamos el total de la compra.\n",
    "\n",
    "                print(\"Has agregado\", cantidad_a_comprar, producto['nombre'], \"al carrito.\")  \n",
    "            else:\n",
    "                 print(\"No hay suficiente stock para completar tu compra.\")\n",
    "                \n",
    "            producto_encontrado = True\n",
    "            break\n",
    "\n",
    "# Mostramos mensaje de has agregado producto o que no hay en stock.\n",
    "# Salimos del bucle for al encontrar el producto.            \n",
    "\n",
    "        if not producto_encontrado:\n",
    "            print(\"El producto no está en el inventario. Intenta con otro.\")\n",
    "\n",
    "# Mostramos un mensaje si no encontramos el producto. \n",
    "\n",
    "        print(\"Carrito de compra:\")\n",
    "        for item in articulos_carrito:\n",
    "            print(\"Producto:\", item['nombre'], \"Cantidad:\", item['cantidad'], \"Precio: €\", item['precio'])\n",
    "\n",
    "        print(\"Total de la compra: €\",total_compra)\n",
    "\n",
    "    return total_compra\n",
    "\n",
    "# Al finalizar la compra, mostramos el total y el carrito\n",
    "# Retornamos el total para pasarlo a procesar_pago\n"
   ]
  },
  {
   "cell_type": "code",
   "execution_count": 55,
   "metadata": {},
   "outputs": [],
   "source": [
    "# Hago comprobación de la función manualmente porque no consigo con \"input\" que me salga la casilla donde escribir mi respuesta.\n",
    "\n",
    "producto_a_comprar = 'Camisa'\n",
    "cantidad_a_comprar = 50"
   ]
  },
  {
   "cell_type": "code",
   "execution_count": 56,
   "metadata": {},
   "outputs": [],
   "source": [
    "# Comprobación de función con productos agregados.\n",
    "\n",
    "cantidad_a_comprar = [\n",
    "    {\"nombre\": \"Camisa\", \"cantidad\": 2},\n",
    "    {\"nombre\": \"Zapatos\", \"cantidad\": 1}\n",
    "]"
   ]
  },
  {
   "cell_type": "code",
   "execution_count": 57,
   "metadata": {},
   "outputs": [
    {
     "ename": "TypeError",
     "evalue": "'float' object is not callable",
     "output_type": "error",
     "traceback": [
      "\u001b[0;31m---------------------------------------------------------------------------\u001b[0m",
      "\u001b[0;31mTypeError\u001b[0m                                 Traceback (most recent call last)",
      "Cell \u001b[0;32mIn[57], line 3\u001b[0m\n\u001b[1;32m      1\u001b[0m \u001b[38;5;66;03m# Aquí no sé seguir, no consigo sacar el total de la compra...\u001b[39;00m\n\u001b[0;32m----> 3\u001b[0m \u001b[43mtotal_compra\u001b[49m\u001b[43m(\u001b[49m\u001b[43m)\u001b[49m\n\u001b[1;32m      5\u001b[0m \u001b[38;5;66;03m# Sigo con el siguiente ejercicio.\u001b[39;00m\n",
      "\u001b[0;31mTypeError\u001b[0m: 'float' object is not callable"
     ]
    }
   ],
   "source": [
    "# Aquí no sé seguir, no consigo sacar el total de la compra...\n",
    "\n",
    "total_compra()\n",
    "\n",
    "# Sigo con el siguiente ejercicio."
   ]
  },
  {
   "cell_type": "markdown",
   "metadata": {},
   "source": [
    "Ejercicio 8\n",
    "\n",
    "Procesa el pago de una compra, calcula el cambio y muestra un mensaje de confirmación."
   ]
  },
  {
   "cell_type": "code",
   "execution_count": 58,
   "metadata": {},
   "outputs": [
    {
     "ename": "NameError",
     "evalue": "name 'realizar_compra' is not defined",
     "output_type": "error",
     "traceback": [
      "\u001b[0;31m---------------------------------------------------------------------------\u001b[0m",
      "\u001b[0;31mNameError\u001b[0m                                 Traceback (most recent call last)",
      "Cell \u001b[0;32mIn[58], line 31\u001b[0m\n\u001b[1;32m     25\u001b[0m             \u001b[38;5;28mprint\u001b[39m(\u001b[38;5;124m\"\u001b[39m\u001b[38;5;124mPor favor, ingresa una cantidad válida.\u001b[39m\u001b[38;5;124m\"\u001b[39m)\n\u001b[1;32m     27\u001b[0m  \u001b[38;5;66;03m# Si el cliente ingresa un valor no numérico\u001b[39;00m\n\u001b[1;32m     28\u001b[0m \n\u001b[1;32m     29\u001b[0m \u001b[38;5;66;03m# Simulación completa de la compra y el pago\u001b[39;00m\n\u001b[0;32m---> 31\u001b[0m total_compra \u001b[38;5;241m=\u001b[39m \u001b[43mrealizar_compra\u001b[49m()\n\u001b[1;32m     32\u001b[0m procesar_pago(total_compra)\n",
      "\u001b[0;31mNameError\u001b[0m: name 'realizar_compra' is not defined"
     ]
    }
   ],
   "source": [
    "def procesar_pago(total_compra):\n",
    "\n",
    "# La función ahora toma total_compra como parámetro, pues pretendemos procesar el pago de la compra final.\n",
    "\n",
    "    while True:\n",
    "        try:\n",
    "            pago_cliente = float(input(\"Ingresa la cantidad con la que deseas pagar: $ \"))\n",
    "\n",
    "# Este bucle dice que mientras se de esta circunstancia siga preguntando.\n",
    "# Solicitamos al cliente que ingrese la cantidad que va a pagar\n",
    "\n",
    "            if pago_cliente >= total_compra:\n",
    "                \n",
    " # Verificar si el pago es suficiente y el cambio que resultaría.\n",
    "\n",
    "                cambio = pago_cliente - total_compra\n",
    "                print(\"Pago procesado con éxito. El cambio es: $\", cambio)\n",
    "                break  \n",
    "# Si el pago es exitoso, salimos del bucle\n",
    "\n",
    "            else:\n",
    "                print(\"El monto es insuficiente. Faltan:\",total_compra - pago_cliente)\n",
    "        \n",
    "        except ValueError:\n",
    "            print(\"Por favor, ingresa una cantidad válida.\")\n",
    "\n",
    " # Si el cliente ingresa un valor no numérico\n",
    "\n",
    "# Simulación completa de la compra y el pago\n",
    "\n",
    "total_compra = realizar_compra()\n",
    "procesar_pago(total_compra)\n"
   ]
  },
  {
   "cell_type": "code",
   "execution_count": 59,
   "metadata": {},
   "outputs": [
    {
     "name": "stdout",
     "output_type": "stream",
     "text": [
      "El monto es insuficiente. Faltan: 48.0\n",
      "El monto es insuficiente. Faltan: 49.0\n",
      "Por favor, ingresa una cantidad válida.\n",
      "Pago procesado con éxito. El cambio es: $ 50.0\n"
     ]
    }
   ],
   "source": [
    "# Simulación completa de la compra con un valor manual ya que al no funcionarme la función anterior no tengo otra manera de comprobar que está bien este código.\n",
    "\n",
    "total_compra = 50.0  # Simulamos que la compra tiene un costo total de €50.0\n",
    "procesar_pago(total_compra)"
   ]
  },
  {
   "cell_type": "markdown",
   "metadata": {},
   "source": [
    "Ejercicio 9\n",
    "\n",
    "El objetivo de esta función es generar un diccionario de clientes, con los parámetros nombre y email. \n"
   ]
  },
  {
   "cell_type": "code",
   "execution_count": 60,
   "metadata": {},
   "outputs": [
    {
     "name": "stdout",
     "output_type": "stream",
     "text": [
      "Cliente agregado: Juan - juan@mail.com\n",
      "Cliente agregado: Maria - maria@mail.com\n",
      "Cliente agregado: Pedro - pedro@mail.com\n",
      "{'Juan': 'juan@mail.com', 'Maria': 'maria@mail.com', 'Pedro': 'pedro@mail.com'}\n"
     ]
    }
   ],
   "source": [
    "clientes = {}\n",
    "\n",
    "# Diccionario de clientes vacío y fuera.\n",
    "\n",
    "def agregar_cliente(nombre, email):\n",
    "\n",
    "    clientes[nombre] = email  \n",
    "    # Agregamos cliente al diccionario, asignando el email al nombre.\n",
    "\n",
    "    # Mensaje de confirmación\n",
    "    print(\"Cliente agregado:\", nombre, \"-\", email)\n",
    "\n",
    "\n",
    "agregar_cliente(\"Juan\", \"juan@mail.com\")\n",
    "agregar_cliente(\"Maria\", \"maria@mail.com\")\n",
    "agregar_cliente(\"Pedro\", \"pedro@mail.com\")\n",
    "\n",
    "# Agregamos algunos clientes\n",
    "\n",
    "print(clientes)  \n",
    "\n",
    "# Muestra todos los clientes\n"
   ]
  },
  {
   "cell_type": "markdown",
   "metadata": {},
   "source": [
    "Ejericio 10\n",
    "\n",
    "Muestra la lista de clientes registrados con sus nombres y correos electrónicos."
   ]
  },
  {
   "cell_type": "code",
   "execution_count": 61,
   "metadata": {},
   "outputs": [
    {
     "name": "stdout",
     "output_type": "stream",
     "text": [
      "Lista de Clientes Registrados:\n",
      "{'Juan': 'juan@mail.com', 'Maria': 'maria@mail.com', 'Susana': 'susana@mail.com'}\n",
      "{'Juan': 'juan@mail.com', 'Maria': 'maria@mail.com', 'Susana': 'susana@mail.com'}\n",
      "{'Juan': 'juan@mail.com', 'Maria': 'maria@mail.com', 'Susana': 'susana@mail.com'}\n"
     ]
    }
   ],
   "source": [
    "clientes = {\n",
    "    \"Juan\": \"juan@mail.com\",\n",
    "    \"Maria\": \"maria@mail.com\",\n",
    "    \"Susana\": \"susana@mail.com\"\n",
    "}\n",
    "\n",
    "def ver_clientes(clientes):\n",
    "    print(\"Lista de Clientes Registrados:\")\n",
    "    \n",
    "    for nombre in clientes:  \n",
    "        email = clientes[nombre] \n",
    "        print(clientes)\n",
    "\n",
    "# Recorre las claves (nombres) y devuelve una vista de los pares clave-valor en el diccionario.\n",
    "\n",
    "ver_clientes(clientes)\n",
    "\n",
    "\n"
   ]
  },
  {
   "cell_type": "markdown",
   "metadata": {},
   "source": [
    "Ejericio 11\n",
    "\n",
    "Registra una compra para un cliente, actualiza las ventas totales y agrega la compra al historial del cliente. Debe recibir el nombre del cliente y el carrito de compras como parámetros.\n"
   ]
  },
  {
   "cell_type": "code",
   "execution_count": 62,
   "metadata": {},
   "outputs": [
    {
     "name": "stdout",
     "output_type": "stream",
     "text": [
      "Compra registrada para Ramona\n",
      "Detalles de la compra:\n",
      "Camisa: 3 x €20\n",
      "Pantalón: 2 x €30\n",
      "Total de la compra: € 120\n",
      "Compra registrada para Peter\n",
      "Detalles de la compra:\n",
      "Gorra: 3 x €30\n",
      "Total de la compra: € 90\n"
     ]
    }
   ],
   "source": [
    "clientes = {'Peter': {\"email\":'peter@mail.com',\"historial\":[]}, 'Ramona': {\"email\":'ramona@mail.com',\"historial\":[]}}\n",
    "\n",
    "def registrar_compra(nombre_cliente, carrito):\n",
    "    \n",
    "    if nombre_cliente not in clientes:\n",
    "        print(\"No se puede realizar la acción\", nombre_cliente, \"no está registrado.\")\n",
    "        return  \n",
    "    \n",
    "# Verificar si el cliente existe y sal de la función si el cliente no está registrado\n",
    "\n",
    "    total_compra = 0\n",
    "    compra_detalles = []  \n",
    "    \n",
    "# Creamos lista vacía para almacenar los detalles de la compra.\n",
    "\n",
    "    for producto, info in carrito.items():\n",
    "        precio = info['precio']\n",
    "        cantidad = info['cantidad']\n",
    "        total_compra += precio * cantidad\n",
    "        compra_detalles.append(f\"{producto}: {cantidad} x €{precio}\")\n",
    "\n",
    "# Calcular el total de la compra\n",
    "\n",
    "    # Registrar la compra en el historial del cliente\n",
    "    clientes[nombre_cliente]['historial'].append({\n",
    "        \"detalles\": compra_detalles,\n",
    "        \"total\": total_compra\n",
    "    })\n",
    "\n",
    "    # Mostrar resumen de la compra\n",
    "    print(\"Compra registrada para\", nombre_cliente)\n",
    "    print(\"Detalles de la compra:\")\n",
    "    for detalle in compra_detalles:\n",
    "        print(detalle)\n",
    "    print(\"Total de la compra: €\", total_compra)\n",
    "\n",
    "# Ejemplo de uso 1\n",
    "carrito_cliente1 = {\n",
    "    \"Camisa\": {\"precio\": 20, \"cantidad\": 3},\n",
    "    \"Pantalón\": {\"precio\": 30, \"cantidad\": 2}\n",
    "}\n",
    "\n",
    "registrar_compra(\"Ramona\", carrito_cliente1)\n",
    "\n",
    "# Ejemplo de uso 2\n",
    "carrito_cliente2 = {\n",
    "    \"Gorra\": {\"precio\": 30, \"cantidad\": 3},\n",
    "}\n",
    "\n",
    "registrar_compra(\"Peter\", carrito_cliente2)"
   ]
  },
  {
   "cell_type": "markdown",
   "metadata": {},
   "source": [
    "Ejericio 12\n",
    "\n",
    "Muestra el historial de compras de un cliente. Debe recibir el nombre del cliente como parámetro"
   ]
  },
  {
   "cell_type": "code",
   "execution_count": 63,
   "metadata": {},
   "outputs": [
    {
     "name": "stdout",
     "output_type": "stream",
     "text": [
      "Historial de compras de Ramona\n"
     ]
    },
    {
     "ename": "TypeError",
     "evalue": "string indices must be integers",
     "output_type": "error",
     "traceback": [
      "\u001b[0;31m---------------------------------------------------------------------------\u001b[0m",
      "\u001b[0;31mTypeError\u001b[0m                                 Traceback (most recent call last)",
      "Cell \u001b[0;32mIn[63], line 36\u001b[0m\n\u001b[1;32m     32\u001b[0m         \u001b[38;5;28mprint\u001b[39m(\u001b[38;5;124m\"\u001b[39m\u001b[38;5;124m-\u001b[39m\u001b[38;5;124m\"\u001b[39m \u001b[38;5;241m*\u001b[39m \u001b[38;5;241m30\u001b[39m)  \n\u001b[1;32m     34\u001b[0m \u001b[38;5;66;03m# Ejemplo de uso\u001b[39;00m\n\u001b[0;32m---> 36\u001b[0m \u001b[43mver_compras_cliente\u001b[49m\u001b[43m(\u001b[49m\u001b[38;5;124;43m\"\u001b[39;49m\u001b[38;5;124;43mRamona\u001b[39;49m\u001b[38;5;124;43m\"\u001b[39;49m\u001b[43m)\u001b[49m\n",
      "Cell \u001b[0;32mIn[63], line 24\u001b[0m, in \u001b[0;36mver_compras_cliente\u001b[0;34m(nombre_cliente)\u001b[0m\n\u001b[1;32m     21\u001b[0m \u001b[38;5;66;03m# Mostrar historial de compras\u001b[39;00m\n\u001b[1;32m     23\u001b[0m \u001b[38;5;28;01mfor\u001b[39;00m compra \u001b[38;5;129;01min\u001b[39;00m historial:\n\u001b[0;32m---> 24\u001b[0m     detalles \u001b[38;5;241m=\u001b[39m \u001b[43mcompra\u001b[49m\u001b[43m[\u001b[49m\u001b[38;5;124;43m'\u001b[39;49m\u001b[38;5;124;43mdetalles\u001b[39;49m\u001b[38;5;124;43m'\u001b[39;49m\u001b[43m]\u001b[49m\n\u001b[1;32m     25\u001b[0m     total \u001b[38;5;241m=\u001b[39m compra[\u001b[38;5;124m'\u001b[39m\u001b[38;5;124mtotal\u001b[39m\u001b[38;5;124m'\u001b[39m]\n\u001b[1;32m     26\u001b[0m     \u001b[38;5;28mprint\u001b[39m(\u001b[38;5;124m\"\u001b[39m\u001b[38;5;124mDetalles de la compra:\u001b[39m\u001b[38;5;124m\"\u001b[39m)\n",
      "\u001b[0;31mTypeError\u001b[0m: string indices must be integers"
     ]
    }
   ],
   "source": [
    "def ver_compras_cliente(nombre_cliente):\n",
    "\n",
    "    if nombre_cliente not in clientes:\n",
    "        print(\"No se puede mostrar el historial, el cliente\", nombre_cliente, \"no está registrado.\")\n",
    "        return\n",
    "# VSi no parece el nombre como cliente, volvemos con la función.\n",
    "\n",
    "    historial = clientes[nombre_cliente]\n",
    "\n",
    "# Acceder al historial de compras por cliente   \n",
    "\n",
    "    if not historial:\n",
    "        print(\"El cliente\", nombre_cliente, \"no tiene compras registradas.\")\n",
    "        return\n",
    "    \n",
    "# Verificar si el cliente tiene historial de compras    \n",
    "# Volvemos con la función.\n",
    "\n",
    "\n",
    "    print(\"Historial de compras de\", nombre_cliente)\n",
    "    # Mostrar historial de compras\n",
    "        \n",
    "    for compra in historial:\n",
    "        detalles = compra['detalles']\n",
    "        total = compra['total']\n",
    "        print(\"Detalles de la compra:\")\n",
    "\n",
    "        for detalle in detalles:\n",
    "            print(detalle)\n",
    "        \n",
    "        print(\"Total de la compra: €\", total)\n",
    "        print(\"-\" * 30)  \n",
    "\n",
    "# Ejemplo de uso\n",
    "\n",
    "ver_compras_cliente(\"Ramona\")\n"
   ]
  },
  {
   "cell_type": "markdown",
   "metadata": {},
   "source": [
    "Ejericio 13\n",
    "\n",
    "Muestra las ventas totales de la tienda."
   ]
  },
  {
   "cell_type": "code",
   "execution_count": 64,
   "metadata": {},
   "outputs": [
    {
     "name": "stdout",
     "output_type": "stream",
     "text": [
      "90\n",
      "210\n"
     ]
    }
   ],
   "source": [
    "def ventas_totales():\n",
    "    total_ventas = 0\n",
    "\n",
    "# creamos la función sobre un  historial de ventas vacío.    \n",
    "\n",
    "    for cliente in clientes:\n",
    "        historial = clientes[cliente][\"historial\"]\n",
    "\n",
    "        for compra in historial:\n",
    "            total_ventas += compra [\"total\"]\n",
    "\n",
    "            print(total_ventas)\n",
    "\n",
    "# Comprobación\n",
    "ventas_totales()"
   ]
  }
 ],
 "metadata": {
  "kernelspec": {
   "display_name": "Python 3",
   "language": "python",
   "name": "python3"
  },
  "language_info": {
   "codemirror_mode": {
    "name": "ipython",
    "version": 3
   },
   "file_extension": ".py",
   "mimetype": "text/x-python",
   "name": "python",
   "nbconvert_exporter": "python",
   "pygments_lexer": "ipython3",
   "version": "3.9.6"
  }
 },
 "nbformat": 4,
 "nbformat_minor": 2
}
